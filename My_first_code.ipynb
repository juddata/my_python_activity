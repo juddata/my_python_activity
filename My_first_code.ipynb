{
 "cells": [
  {
   "cell_type": "code",
   "execution_count": 1,
   "id": "8f51520b",
   "metadata": {},
   "outputs": [],
   "source": [
    "# This is my first line of code"
   ]
  },
  {
   "cell_type": "code",
   "execution_count": 2,
   "id": "be247dd2",
   "metadata": {},
   "outputs": [
    {
     "name": "stdout",
     "output_type": "stream",
     "text": [
      "My name is Judit Zalai\n",
      "The date is December 20th\n"
     ]
    }
   ],
   "source": [
    "print(\"My name is Judit Zalai\")\n",
    "print(\"The date is December 20th\")"
   ]
  },
  {
   "cell_type": "code",
   "execution_count": 3,
   "id": "51079021",
   "metadata": {},
   "outputs": [],
   "source": [
    "# Write a program to analyse real estate data."
   ]
  },
  {
   "cell_type": "code",
   "execution_count": 14,
   "id": "ea9f0d21",
   "metadata": {},
   "outputs": [
    {
     "name": "stdout",
     "output_type": "stream",
     "text": [
      "182900\n"
     ]
    }
   ],
   "source": [
    "# Remember Python does not use a comma to separate thousands\n",
    "# Create variables\n",
    "a = 45000\n",
    "b = 23400\n",
    "c = 67000\n",
    "d = 34600\n",
    "e = 12900\n",
    "\n",
    "# Add all the sales together \n",
    "total_sales = a + b + c + d + e\n",
    "\n",
    "# View the outputprint(total_sales)\n",
    "print(total_sales)"
   ]
  },
  {
   "cell_type": "code",
   "execution_count": 15,
   "id": "35bc95ec",
   "metadata": {},
   "outputs": [
    {
     "name": "stdout",
     "output_type": "stream",
     "text": [
      "36580.0\n"
     ]
    }
   ],
   "source": [
    "avg_sales= total_sales/5\n",
    "print(avg_sales)"
   ]
  },
  {
   "cell_type": "code",
   "execution_count": 18,
   "id": "1ff6911d",
   "metadata": {},
   "outputs": [
    {
     "name": "stdout",
     "output_type": "stream",
     "text": [
      "60500\n"
     ]
    }
   ],
   "source": [
    "# create a new variable\n",
    "# Calculate the price of property C as sales - commission\n",
    "property_price_c = (67000 - 6500)\n",
    "\n",
    "# View the output\n",
    "print(property_price_c)"
   ]
  }
 ],
 "metadata": {
  "kernelspec": {
   "display_name": "Python 3 (ipykernel)",
   "language": "python",
   "name": "python3"
  },
  "language_info": {
   "codemirror_mode": {
    "name": "ipython",
    "version": 3
   },
   "file_extension": ".py",
   "mimetype": "text/x-python",
   "name": "python",
   "nbconvert_exporter": "python",
   "pygments_lexer": "ipython3",
   "version": "3.10.9"
  }
 },
 "nbformat": 4,
 "nbformat_minor": 5
}
